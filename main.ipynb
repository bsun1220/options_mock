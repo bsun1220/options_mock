{
 "cells": [
  {
   "cell_type": "code",
   "execution_count": 3,
   "id": "688847c6-0022-461d-8c65-88299bdbc7a5",
   "metadata": {},
   "outputs": [],
   "source": [
    "from options_mock import *\n",
    "from options_mock_two_expiry import *"
   ]
  },
  {
   "cell_type": "code",
   "execution_count": 4,
   "id": "617770d3-9582-4df5-8086-b474c3fe4e05",
   "metadata": {},
   "outputs": [],
   "source": [
    "option_mock = OptionMock()\n",
    "option_mock.initialize_random_board()\n",
    "option_mock.create_excel()"
   ]
  },
  {
   "cell_type": "code",
   "execution_count": 2,
   "id": "db3dcc00-4a34-47ba-b56d-cddca9e6f9e5",
   "metadata": {},
   "outputs": [],
   "source": [
    "option_mock = OptionMockTwoExpiry()\n",
    "option_mock.initialize_random_board()\n",
    "option_mock.create_excel()"
   ]
  },
  {
   "cell_type": "code",
   "execution_count": null,
   "id": "7cac09cc-147e-4a50-b470-4d9abaf85cc0",
   "metadata": {},
   "outputs": [],
   "source": []
  },
  {
   "cell_type": "code",
   "execution_count": 60,
   "id": "67f0d7e6-39f4-4f58-88da-e77c010edb80",
   "metadata": {},
   "outputs": [
    {
     "data": {
      "text/plain": [
       "'\\nSynthetic Combo\\nCombo: Straddle -  2 * Put = 2 * Call - Straddle\\nB/W: Put + R/C = Call - (S - K)\\nP&S: Put + (S - K) = Call - R/C\\nReversal = R/C = Sell Stock, Buy Combo\\nConvert = -R/C = Buy Stock, Sell Combo\\n\\nVolatility Combo\\nCV / PV: CV + PV = Box\\nRR (Buy Put, Sell Call, Diff Strike) RR + Parity = CV - R/C\\nStraddle: Combo + 2 * Put = 2 * Call - Combo\\nCV - PV = Straddle Swap\\nStrangle: Straddle + Butterfly - Box\\n\\nTime Based:\\nJR: Buy Long Term Combo, Sell Short Term Combo (same strike)\\nCall Calendar = Buy Long Term Call, Sell Short Term Call \\nPut Calendar = Buy Long Term Put, Sell Short Term Put\\nCC - PC = JR\\nJelly Roll = Diff in R/C\\nSplit Roll = Buy Long Term Combo, Sell Short Term Combo (diff strike)\\n\\n'"
      ]
     },
     "execution_count": 60,
     "metadata": {},
     "output_type": "execute_result"
    }
   ],
   "source": [
    "'''\n",
    "Synthetic Combo\n",
    "Combo: Straddle -  2 * Put = 2 * Call - Straddle\n",
    "B/W: Put + R/C = Call - (S - K)\n",
    "P&S: Put + (S - K) = Call - R/C\n",
    "Reversal = R/C = Sell Stock, Buy Combo\n",
    "Convert = -R/C = Buy Stock, Sell Combo\n",
    "\n",
    "Volatility Combo\n",
    "CV / PV: CV + PV = Box\n",
    "RR (Buy Put, Sell Call, Diff Strike) RR + Parity = CV - R/C\n",
    "Straddle: Combo + 2 * Put = 2 * Call - Combo\n",
    "CV - PV = Straddle Swap\n",
    "Strangle: Straddle + Butterfly - Box\n",
    "\n",
    "Time Based:\n",
    "JR: Buy Long Term Combo, Sell Short Term Combo (same strike)\n",
    "Call Calendar = Buy Long Term Call, Sell Short Term Call \n",
    "Put Calendar = Buy Long Term Put, Sell Short Term Put\n",
    "CC - PC = JR\n",
    "Jelly Roll = Diff in R/C\n",
    "Split Roll = Buy Long Term Combo, Sell Short Term Combo (diff strike)\n",
    "\n",
    "'''"
   ]
  },
  {
   "cell_type": "code",
   "execution_count": null,
   "id": "32b6ce7a-dda3-4874-9531-ace809afa626",
   "metadata": {},
   "outputs": [],
   "source": []
  },
  {
   "cell_type": "code",
   "execution_count": null,
   "id": "c8170c02-3e98-4c19-9b1b-245b493347d3",
   "metadata": {},
   "outputs": [],
   "source": []
  },
  {
   "cell_type": "code",
   "execution_count": null,
   "id": "df315538-28a2-494e-90bb-f0409a1fcc57",
   "metadata": {},
   "outputs": [],
   "source": []
  }
 ],
 "metadata": {
  "kernelspec": {
   "display_name": "Python 3 (ipykernel)",
   "language": "python",
   "name": "python3"
  },
  "language_info": {
   "codemirror_mode": {
    "name": "ipython",
    "version": 3
   },
   "file_extension": ".py",
   "mimetype": "text/x-python",
   "name": "python",
   "nbconvert_exporter": "python",
   "pygments_lexer": "ipython3",
   "version": "3.13.0"
  }
 },
 "nbformat": 4,
 "nbformat_minor": 5
}
